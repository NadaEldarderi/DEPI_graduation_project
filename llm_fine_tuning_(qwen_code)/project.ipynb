{
 "cells": [
  {
   "cell_type": "markdown",
   "id": "ec6415bc",
   "metadata": {},
   "source": [
    "# Set Up"
   ]
  },
  {
   "cell_type": "code",
   "execution_count": null,
   "id": "de8d0346",
   "metadata": {},
   "outputs": [],
   "source": [
    "# !pip install -qU transformers==4.48.3 datasets==2.18.0 optimum==1.24.0\n",
    "# !pip install -qU json-repair==0.29.1"
   ]
  },
  {
   "cell_type": "markdown",
   "id": "ffe9c6e7",
   "metadata": {},
   "source": [
    "# Libraries Import"
   ]
  },
  {
   "cell_type": "code",
   "execution_count": null,
   "id": "6dbfbbc5",
   "metadata": {},
   "outputs": [],
   "source": [
    "import numpy as np\n",
    "import pandas as pd\n",
    "import matplotlib.pyplot as plt\n",
    "import seaborn as sns"
   ]
  },
  {
   "cell_type": "code",
   "execution_count": null,
   "id": "2d3162f2",
   "metadata": {},
   "outputs": [],
   "source": [
    "from os.path import join"
   ]
  },
  {
   "cell_type": "code",
   "execution_count": null,
   "id": "1889fdf7",
   "metadata": {},
   "outputs": [],
   "source": [
    "from transformers import AutoModelForCausalLM, AutoTokenizer"
   ]
  },
  {
   "cell_type": "code",
   "execution_count": null,
   "id": "43694508",
   "metadata": {},
   "outputs": [],
   "source": [
    "from data_model import getDetailExtractionMessage, getTranslationMessage"
   ]
  },
  {
   "cell_type": "markdown",
   "id": "693704b9",
   "metadata": {},
   "source": [
    "# Constants"
   ]
  },
  {
   "cell_type": "code",
   "execution_count": null,
   "id": "5d90d26f",
   "metadata": {},
   "outputs": [],
   "source": [
    "BASE_MODEL_ID = \"Qwen/Qwen2.5-1.5B-Instruct\"\n",
    "TORCH_TYPE = None"
   ]
  },
  {
   "cell_type": "markdown",
   "id": "9d79e519",
   "metadata": {},
   "source": [
    "# Model (Base Model)"
   ]
  },
  {
   "cell_type": "code",
   "execution_count": null,
   "id": "d756ec17",
   "metadata": {},
   "outputs": [],
   "source": [
    "base_model = AutoModelForCausalLM.from_pretrained(\n",
    "    BASE_MODEL_ID,\n",
    "    device_map=\"auto\",\n",
    "    torch_dtype = TORCH_TYPE,\n",
    "    offload_folder=\"./offload_dir\"\n",
    ")\n",
    "\n",
    "tokenizer_temp = AutoTokenizer.from_pretrained(BASE_MODEL_ID)"
   ]
  },
  {
   "cell_type": "code",
   "execution_count": null,
   "id": "91f9e46a",
   "metadata": {},
   "outputs": [],
   "source": [
    "base_model"
   ]
  },
  {
   "cell_type": "markdown",
   "id": "19463cb7",
   "metadata": {},
   "source": [
    "# Model Prediction"
   ]
  },
  {
   "cell_type": "code",
   "execution_count": null,
   "id": "758d5967",
   "metadata": {},
   "outputs": [],
   "source": [
    "def predict(message: str):\n",
    "    text = tokenizer_temp.apply_chat_template(\n",
    "        message,\n",
    "        tokenize=False,\n",
    "        add_generation_prompt=True\n",
    "    )\n",
    "\n",
    "    model_inputs = tokenizer_temp([text], return_tensors=\"pt\").to(base_model.device)\n",
    "\n",
    "    generated_ids = base_model.generate(\n",
    "        model_inputs.input_ids,\n",
    "        max_new_tokens=1024,\n",
    "        do_sample=False, top_k=None, temperature=None, top_p=None,\n",
    "    )\n",
    "\n",
    "    generated_ids = [\n",
    "        output_ids[len(input_ids):]\n",
    "        for input_ids, output_ids in zip(model_inputs.input_ids, generated_ids)\n",
    "    ]\n",
    "\n",
    "    response = tokenizer_temp.batch_decode(generated_ids, skip_special_tokens=True)[0]\n",
    "\n",
    "    return response"
   ]
  },
  {
   "cell_type": "code",
   "execution_count": null,
   "id": "a55a3280",
   "metadata": {},
   "outputs": [],
   "source": [
    "story = \"\"\"\n",
    "أنهى مسئولو النادى الأهلى كل تفاصيل عقد أحمد مصطفى زيزو، جناح الزمالك، بحيث ينضم اللاعب لمدة 4 سنوات قادمة بدءا من الموسم الجديد، فى صفقة انتقال حر بعد نهاية عقده مع الزمالك عقب نهاية الموسم الحالى.\n",
    "\n",
    "ووضع الأهلى زيزو فى الفئة الأولى بحيث يحصل على 25 مليون جنيه سنويا بالإضافة إلى عقد إعلانى مقابل 60 مليون جنيه، بخلاف 80 مليون جنيه أخرى سيحصل عليها دفعة واحدة من خارج النادى عند الإعلان الرسمى عن الصفقة.\n",
    "\n",
    "وينتهى عقد أحمد سيد زيزو مع الزمالك بنهاية الموسم الجارى، مما يجعل له الحق فى التفاوض مع أى نادٍ وإتمام الاتفاق معه والانضمام له عقب نهاية عقده الحالي خلال يونيو المقبل.\n",
    "\n",
    "وحصل زيزو على تأشيرة السفر لأمريكا بالفعل للمشاركة مع الأهلى في مونديال الأندية الصيف المقبل.\n",
    "\n",
    "ويستعد الأهلى للمشاركة فى بطولة كأس العالم للأندية بشكلها الجديد فى الولايات المتحدة الأمريكية، والمقامة بمشاركة 32 ناديًا من أكبر فرق العالم\n",
    "\"\"\""
   ]
  },
  {
   "cell_type": "markdown",
   "id": "5ee47240",
   "metadata": {},
   "source": [
    "Before Tuning"
   ]
  },
  {
   "cell_type": "code",
   "execution_count": null,
   "id": "f592d0aa",
   "metadata": {},
   "outputs": [],
   "source": [
    "getDetailExtractionMessage(story)"
   ]
  },
  {
   "cell_type": "code",
   "execution_count": null,
   "id": "f48fa242",
   "metadata": {},
   "outputs": [],
   "source": [
    "predict(getDetailExtractionMessage(story))"
   ]
  },
  {
   "cell_type": "code",
   "execution_count": null,
   "id": "be44239c",
   "metadata": {},
   "outputs": [],
   "source": [
    "getTranslationMessage(story)"
   ]
  },
  {
   "cell_type": "code",
   "execution_count": null,
   "id": "65f8f116",
   "metadata": {},
   "outputs": [],
   "source": [
    "predict(getTranslationMessage(story))"
   ]
  },
  {
   "cell_type": "markdown",
   "id": "00a62b70",
   "metadata": {},
   "source": [
    "# Loading Adaptor"
   ]
  },
  {
   "cell_type": "code",
   "execution_count": null,
   "id": "c8b55a05",
   "metadata": {},
   "outputs": [],
   "source": [
    "# finetuned_model_id = \"models\"\n",
    "# base_model.load_adapter(finetuned_model_id)"
   ]
  }
 ],
 "metadata": {
  "kernelspec": {
   "display_name": "my-env",
   "language": "python",
   "name": "python3"
  },
  "language_info": {
   "codemirror_mode": {
    "name": "ipython",
    "version": 3
   },
   "file_extension": ".py",
   "mimetype": "text/x-python",
   "name": "python",
   "nbconvert_exporter": "python",
   "pygments_lexer": "ipython3",
   "version": "3.10.13"
  }
 },
 "nbformat": 4,
 "nbformat_minor": 5
}
