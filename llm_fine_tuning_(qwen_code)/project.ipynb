{
 "cells": [
  {
   "cell_type": "markdown",
   "id": "ec6415bc",
   "metadata": {},
   "source": [
    "# Set Up"
   ]
  },
  {
   "cell_type": "code",
   "execution_count": null,
   "id": "de8d0346",
   "metadata": {},
   "outputs": [],
   "source": [
    "!pip install -qU transformers==4.48.3 datasets==2.18.0 optimum==1.24.0\n",
    "!pip install -qU json-repair==0.29.1"
   ]
  },
  {
   "cell_type": "markdown",
   "id": "ffe9c6e7",
   "metadata": {},
   "source": [
    "# Libraries Import"
   ]
  },
  {
   "cell_type": "code",
   "execution_count": 3,
   "id": "6dbfbbc5",
   "metadata": {},
   "outputs": [],
   "source": [
    "import numpy as np\n",
    "import pandas as pd\n",
    "import matplotlib.pyplot as plt\n",
    "import seaborn as sns"
   ]
  },
  {
   "cell_type": "code",
   "execution_count": 4,
   "id": "2d3162f2",
   "metadata": {},
   "outputs": [],
   "source": [
    "import json\n",
    "import os\n",
    "from os.path import join\n",
    "import random"
   ]
  },
  {
   "cell_type": "code",
   "execution_count": 5,
   "id": "1889fdf7",
   "metadata": {},
   "outputs": [],
   "source": [
    "from tqdm.auto import tqdm\n",
    "import json_repair\n",
    "from transformers import AutoModelForCausalLM, AutoTokenizer, BitsAndBytesConfig\n",
    "import torch"
   ]
  },
  {
   "cell_type": "code",
   "execution_count": null,
   "id": "43694508",
   "metadata": {},
   "outputs": [],
   "source": [
    "from data_model import getDetailExtractionMessage, getTranslationMessage\n",
    "from functions import parse_json"
   ]
  },
  {
   "cell_type": "markdown",
   "id": "693704b9",
   "metadata": {},
   "source": [
    "# Constants"
   ]
  },
  {
   "cell_type": "code",
   "execution_count": 7,
   "id": "5d90d26f",
   "metadata": {},
   "outputs": [],
   "source": [
    "BASE_MODEL_ID = \"Qwen/Qwen2.5-1.5B-Instruct\"\n",
    "TORCH_TYPE = None"
   ]
  },
  {
   "cell_type": "markdown",
   "id": "9d79e519",
   "metadata": {},
   "source": [
    "# Model (Base Model)"
   ]
  },
  {
   "cell_type": "code",
   "execution_count": 8,
   "id": "d756ec17",
   "metadata": {},
   "outputs": [],
   "source": [
    "base_model = AutoModelForCausalLM.from_pretrained(\n",
    "    BASE_MODEL_ID,\n",
    "    device_map=\"auto\",\n",
    "    torch_dtype = TORCH_TYPE\n",
    ")\n",
    "\n",
    "tokenizer_temp = AutoTokenizer.from_pretrained(BASE_MODEL_ID)"
   ]
  },
  {
   "cell_type": "code",
   "execution_count": 9,
   "id": "91f9e46a",
   "metadata": {},
   "outputs": [
    {
     "data": {
      "text/plain": [
       "Qwen2ForCausalLM(\n",
       "  (model): Qwen2Model(\n",
       "    (embed_tokens): Embedding(151936, 1536)\n",
       "    (layers): ModuleList(\n",
       "      (0-27): 28 x Qwen2DecoderLayer(\n",
       "        (self_attn): Qwen2Attention(\n",
       "          (q_proj): Linear(in_features=1536, out_features=1536, bias=True)\n",
       "          (k_proj): Linear(in_features=1536, out_features=256, bias=True)\n",
       "          (v_proj): Linear(in_features=1536, out_features=256, bias=True)\n",
       "          (o_proj): Linear(in_features=1536, out_features=1536, bias=False)\n",
       "        )\n",
       "        (mlp): Qwen2MLP(\n",
       "          (gate_proj): Linear(in_features=1536, out_features=8960, bias=False)\n",
       "          (up_proj): Linear(in_features=1536, out_features=8960, bias=False)\n",
       "          (down_proj): Linear(in_features=8960, out_features=1536, bias=False)\n",
       "          (act_fn): SiLU()\n",
       "        )\n",
       "        (input_layernorm): Qwen2RMSNorm((1536,), eps=1e-06)\n",
       "        (post_attention_layernorm): Qwen2RMSNorm((1536,), eps=1e-06)\n",
       "      )\n",
       "    )\n",
       "    (norm): Qwen2RMSNorm((1536,), eps=1e-06)\n",
       "    (rotary_emb): Qwen2RotaryEmbedding()\n",
       "  )\n",
       "  (lm_head): Linear(in_features=1536, out_features=151936, bias=False)\n",
       ")"
      ]
     },
     "execution_count": 9,
     "metadata": {},
     "output_type": "execute_result"
    }
   ],
   "source": [
    "base_model"
   ]
  },
  {
   "cell_type": "markdown",
   "id": "19463cb7",
   "metadata": {},
   "source": [
    "# Model Prediction"
   ]
  },
  {
   "cell_type": "code",
   "execution_count": 10,
   "id": "758d5967",
   "metadata": {},
   "outputs": [],
   "source": [
    "def predict(message: str):\n",
    "    text = tokenizer_temp.apply_chat_template(\n",
    "        message,\n",
    "        tokenize=False,\n",
    "        add_generation_prompt=True\n",
    "    )\n",
    "\n",
    "    model_inputs = tokenizer_temp([text], return_tensors=\"pt\").to(base_model.device)\n",
    "\n",
    "    generated_ids = base_model.generate(\n",
    "        model_inputs.input_ids,\n",
    "        max_new_tokens=1024,\n",
    "        do_sample=False, top_k=None, temperature=None, top_p=None,\n",
    "    )\n",
    "\n",
    "    generated_ids = [\n",
    "        output_ids[len(input_ids):]\n",
    "        for input_ids, output_ids in zip(model_inputs.input_ids, generated_ids)\n",
    "    ]\n",
    "\n",
    "    response = tokenizer_temp.batch_decode(generated_ids, skip_special_tokens=True)[0]\n",
    "\n",
    "    return response"
   ]
  },
  {
   "cell_type": "code",
   "execution_count": 13,
   "id": "a55a3280",
   "metadata": {},
   "outputs": [],
   "source": [
    "story = \"\"\"\n",
    "أنهى مسئولو النادى الأهلى كل تفاصيل عقد أحمد مصطفى زيزو، جناح الزمالك، بحيث ينضم اللاعب لمدة 4 سنوات قادمة بدءا من الموسم الجديد، فى صفقة انتقال حر بعد نهاية عقده مع الزمالك عقب نهاية الموسم الحالى.\n",
    "\n",
    "ووضع الأهلى زيزو فى الفئة الأولى بحيث يحصل على 25 مليون جنيه سنويا بالإضافة إلى عقد إعلانى مقابل 60 مليون جنيه، بخلاف 80 مليون جنيه أخرى سيحصل عليها دفعة واحدة من خارج النادى عند الإعلان الرسمى عن الصفقة.\n",
    "\n",
    "وينتهى عقد أحمد سيد زيزو مع الزمالك بنهاية الموسم الجارى، مما يجعل له الحق فى التفاوض مع أى نادٍ وإتمام الاتفاق معه والانضمام له عقب نهاية عقده الحالي خلال يونيو المقبل.\n",
    "\n",
    "وحصل زيزو على تأشيرة السفر لأمريكا بالفعل للمشاركة مع الأهلى في مونديال الأندية الصيف المقبل.\n",
    "\n",
    "ويستعد الأهلى للمشاركة فى بطولة كأس العالم للأندية بشكلها الجديد فى الولايات المتحدة الأمريكية، والمقامة بمشاركة 32 ناديًا من أكبر فرق العالم\n",
    "\"\"\""
   ]
  },
  {
   "cell_type": "code",
   "execution_count": 16,
   "id": "f592d0aa",
   "metadata": {},
   "outputs": [
    {
     "data": {
      "text/plain": [
       "[{'role': 'system',\n",
       "  'content': 'You are an NLP data paraser.\\nYou will be provided by an Arabic text associated with a Pydantic scheme.\\nGenerate the ouptut in the same story language.\\nYou have to extract JSON details from text according the Pydantic details.\\nExtract details as mentioned in text.\\nDo not generate any introduction or conclusion.'},\n",
       " {'role': 'user',\n",
       "  'content': '## Story:\\nأنهى مسئولو النادى الأهلى كل تفاصيل عقد أحمد مصطفى زيزو، جناح الزمالك، بحيث ينضم اللاعب لمدة 4 سنوات قادمة بدءا من الموسم الجديد، فى صفقة انتقال حر بعد نهاية عقده مع الزمالك عقب نهاية الموسم الحالى.\\n\\nووضع الأهلى زيزو فى الفئة الأولى بحيث يحصل على 25 مليون جنيه سنويا بالإضافة إلى عقد إعلانى مقابل 60 مليون جنيه، بخلاف 80 مليون جنيه أخرى سيحصل عليها دفعة واحدة من خارج النادى عند الإعلان الرسمى عن الصفقة.\\n\\nوينتهى عقد أحمد سيد زيزو مع الزمالك بنهاية الموسم الجارى، مما يجعل له الحق فى التفاوض مع أى نادٍ وإتمام الاتفاق معه والانضمام له عقب نهاية عقده الحالي خلال يونيو المقبل.\\n\\nوحصل زيزو على تأشيرة السفر لأمريكا بالفعل للمشاركة مع الأهلى في مونديال الأندية الصيف المقبل.\\n\\nويستعد الأهلى للمشاركة فى بطولة كأس العالم للأندية بشكلها الجديد فى الولايات المتحدة الأمريكية، والمقامة بمشاركة 32 ناديًا من أكبر\\xa0فرق\\xa0العالم\\n\\n## Pydantic Details:\\n{\"$defs\": {\"Entity\": {\"properties\": {\"entity_value\": {\"description\": \"The actual name or value of the entity.\", \"title\": \"Entity Value\", \"type\": \"string\"}, \"entity_type\": {\"description\": \"The type of recognized entity.\", \"enum\": [\"person-male\", \"person-female\", \"location\", \"organization\", \"event\", \"time\", \"quantity\", \"money\", \"product\", \"law\", \"disease\", \"artifact\", \"not_specified\"], \"title\": \"Entity Type\", \"type\": \"string\"}}, \"required\": [\"entity_value\", \"entity_type\"], \"title\": \"Entity\", \"type\": \"object\"}}, \"properties\": {\"story_title\": {\"description\": \"A fully informative and SEO optimized title of the story.\", \"maxLength\": 300, \"minLength\": 5, \"title\": \"Story Title\", \"type\": \"string\"}, \"story_keywords\": {\"description\": \"Relevant keywords associated with the story.\", \"items\": {\"type\": \"string\"}, \"minItems\": 1, \"title\": \"Story Keywords\", \"type\": \"array\"}, \"story_summary\": {\"description\": \"Summarized key points about the story (1-5 points).\", \"items\": {\"type\": \"string\"}, \"maxItems\": 5, \"minItems\": 1, \"title\": \"Story Summary\", \"type\": \"array\"}, \"story_category\": {\"description\": \"Category of the news story.\", \"enum\": [\"politics\", \"sports\", \"art\", \"technology\", \"economy\", \"health\", \"entertainment\", \"science\", \"not_specified\"], \"title\": \"Story Category\", \"type\": \"string\"}, \"story_entities\": {\"description\": \"List of identified entities in the story.\", \"items\": {\"$ref\": \"#/$defs/Entity\"}, \"maxItems\": 10, \"minItems\": 1, \"title\": \"Story Entities\", \"type\": \"array\"}}, \"required\": [\"story_title\", \"story_keywords\", \"story_summary\", \"story_category\", \"story_entities\"], \"title\": \"NewsDetails\", \"type\": \"object\"}\\n\\n## Story Details:\\n```json'}]"
      ]
     },
     "execution_count": 16,
     "metadata": {},
     "output_type": "execute_result"
    }
   ],
   "source": [
    "getDetailExtractionMessage(story)"
   ]
  },
  {
   "cell_type": "code",
   "execution_count": 15,
   "id": "f48fa242",
   "metadata": {},
   "outputs": [
    {
     "data": {
      "text/plain": [
       "'{\\n    \"story_title\": \"Ahmed Moustafa Zizou\\'s Contract Ends\",\\n    \"story_keywords\": [\\n        \"Ahmed Moustafa Zizou\",\\n        \"contract ends\",\\n        \"Ahmed Sadek Zizou\",\\n        \"transfer fee\",\\n        \"Cup World Cup\"\\n    ],\\n    \"story_summary\": [\\n        \"Ahmed Moustafa Zizou, a player for Al Ahli, has completed all details related to his contract.\",\\n        \"Zizou is set to join Al Ahli for four years starting from the new season, after ending his contract with Al Ahli at the end of this season.\"\\n    ],\\n    \"story_category\": \"sports\",\\n    \"story_entities\": [\\n        {\\n            \"entity_value\": \"Ahmed Moustafa Zizou\",\\n            \"entity_type\": \"person-male\"\\n        },\\n        {\\n            \"entity_value\": \"Al Ahli\",\\n            \"entity_type\": \"organization\"\\n        }\\n    ]\\n}'"
      ]
     },
     "execution_count": 15,
     "metadata": {},
     "output_type": "execute_result"
    }
   ],
   "source": [
    "predict(getDetailExtractionMessage(story))"
   ]
  },
  {
   "cell_type": "code",
   "execution_count": 17,
   "id": "be44239c",
   "metadata": {},
   "outputs": [
    {
     "data": {
      "text/plain": [
       "[{'role': 'system',\n",
       "  'content': 'You are a professional translator.\\nYou will be provided by an Arabic text.\\nYou have to translate the text into the `Targeted Language`.\\nFollow the provided Scheme to generate a JSON\\nDo not generate any introduction or conclusion.'},\n",
       " {'role': 'user',\n",
       "  'content': '## Story:\\nأنهى مسئولو النادى الأهلى كل تفاصيل عقد أحمد مصطفى زيزو، جناح الزمالك، بحيث ينضم اللاعب لمدة 4 سنوات قادمة بدءا من الموسم الجديد، فى صفقة انتقال حر بعد نهاية عقده مع الزمالك عقب نهاية الموسم الحالى.\\n\\nووضع الأهلى زيزو فى الفئة الأولى بحيث يحصل على 25 مليون جنيه سنويا بالإضافة إلى عقد إعلانى مقابل 60 مليون جنيه، بخلاف 80 مليون جنيه أخرى سيحصل عليها دفعة واحدة من خارج النادى عند الإعلان الرسمى عن الصفقة.\\n\\nوينتهى عقد أحمد سيد زيزو مع الزمالك بنهاية الموسم الجارى، مما يجعل له الحق فى التفاوض مع أى نادٍ وإتمام الاتفاق معه والانضمام له عقب نهاية عقده الحالي خلال يونيو المقبل.\\n\\nوحصل زيزو على تأشيرة السفر لأمريكا بالفعل للمشاركة مع الأهلى في مونديال الأندية الصيف المقبل.\\n\\nويستعد الأهلى للمشاركة فى بطولة كأس العالم للأندية بشكلها الجديد فى الولايات المتحدة الأمريكية، والمقامة بمشاركة 32 ناديًا من أكبر\\xa0فرق\\xa0العالم\\n\\n## Pydantic Details:\\n{\"properties\": {\"translated_title\": {\"description\": \"Suggested translated title of the news story.\", \"maxLength\": 300, \"minLength\": 5, \"title\": \"Translated Title\", \"type\": \"string\"}, \"translated_content\": {\"description\": \"Translated content of the news story.\", \"minLength\": 5, \"title\": \"Translated Content\", \"type\": \"string\"}}, \"required\": [\"translated_title\", \"translated_content\"], \"title\": \"TranslatedStory\", \"type\": \"object\"}\\n\\n## Targeted Language:\\nEnglish\\n\\n## Translated Story:\\n```json'}]"
      ]
     },
     "execution_count": 17,
     "metadata": {},
     "output_type": "execute_result"
    }
   ],
   "source": [
    "getTranslationMessage(story)"
   ]
  },
  {
   "cell_type": "code",
   "execution_count": 18,
   "id": "65f8f116",
   "metadata": {},
   "outputs": [
    {
     "data": {
      "text/plain": [
       "'{\\n  \"translated_title\": \"Ahmed Moustafa Zizou\\'s Contract Ends with Cairo Eagles\",\\n  \"translated_content\": \"The management of Al Ahli has finalized all details regarding Ahmed Moustafa Zizou\\'s contract, which he will join for four years starting from next season. The deal is free transfer after his contract expires with Al Ahli at the end of this season.\"\\n}'"
      ]
     },
     "execution_count": 18,
     "metadata": {},
     "output_type": "execute_result"
    }
   ],
   "source": [
    "predict(getTranslationMessage(story))"
   ]
  }
 ],
 "metadata": {
  "kernelspec": {
   "display_name": "my-env",
   "language": "python",
   "name": "python3"
  },
  "language_info": {
   "codemirror_mode": {
    "name": "ipython",
    "version": 3
   },
   "file_extension": ".py",
   "mimetype": "text/x-python",
   "name": "python",
   "nbconvert_exporter": "python",
   "pygments_lexer": "ipython3",
   "version": "3.10.13"
  }
 },
 "nbformat": 4,
 "nbformat_minor": 5
}
