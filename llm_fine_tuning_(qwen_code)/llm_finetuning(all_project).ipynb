{
 "cells": [
  {
   "cell_type": "markdown",
   "metadata": {
    "id": "OicYSU_s6xzM"
   },
   "source": [
    "## Mount Your Google Drive"
   ]
  },
  {
   "cell_type": "code",
   "execution_count": 1,
   "metadata": {
    "colab": {
     "base_uri": "https://localhost:8080/"
    },
    "executionInfo": {
     "elapsed": 2797,
     "status": "ok",
     "timestamp": 1747006756908,
     "user": {
      "displayName": "Abdallah Samir",
      "userId": "12960855304756324590"
     },
     "user_tz": -180
    },
    "id": "zzExaTCGnZRF",
    "outputId": "f5d12124-30dc-4dcc-a5fd-43fc17ed76f7"
   },
   "outputs": [
    {
     "name": "stdout",
     "output_type": "stream",
     "text": [
      "Drive already mounted at /gdrive; to attempt to forcibly remount, call drive.mount(\"/gdrive\", force_remount=True).\n"
     ]
    }
   ],
   "source": [
    "from google.colab import drive\n",
    "drive.mount('/gdrive')"
   ]
  },
  {
   "cell_type": "markdown",
   "metadata": {
    "id": "zDV3lCZHxwOe"
   },
   "source": [
    "## Setup\n",
    "\n",
    "*   List item\n",
    "*   List item\n",
    "\n"
   ]
  },
  {
   "cell_type": "code",
   "execution_count": 2,
   "metadata": {
    "executionInfo": {
     "elapsed": 20265,
     "status": "ok",
     "timestamp": 1747006777175,
     "user": {
      "displayName": "Abdallah Samir",
      "userId": "12960855304756324590"
     },
     "user_tz": -180
    },
    "id": "vhrM7Kgyxydu"
   },
   "outputs": [],
   "source": [
    "!pip install -qU transformers==4.48.3 datasets==2.18.0 optimum==1.24.0\n",
    "!pip install -qU openai==1.61.0 wandb\n",
    "!pip install -qU json-repair==0.29.1\n",
    "# !pip install -qU faker==35.2.0\n",
    "# !pip install -qU vllm==0.7.2"
   ]
  },
  {
   "cell_type": "code",
   "execution_count": null,
   "metadata": {
    "id": "8526F9lVKilu"
   },
   "outputs": [],
   "source": [
    "!git clone --depth 1 https://github.com/hiyouga/LLaMA-Factory.git\n",
    "!cd LLaMA-Factory && pip install -e ."
   ]
  },
  {
   "cell_type": "code",
   "execution_count": null,
   "metadata": {
    "id": "65ZhrnavyL0Q"
   },
   "outputs": [],
   "source": [
    "from google.colab import userdata\n",
    "import wandb\n",
    "\n",
    "wandb.login(key=userdata.get('wandb'))\n",
    "hf_token = userdata.get('huggingface')\n",
    "!huggingface-cli login --token {hf_token}"
   ]
  },
  {
   "cell_type": "markdown",
   "metadata": {
    "id": "uLdOa2oSyuBE"
   },
   "source": [
    "## Imports"
   ]
  },
  {
   "cell_type": "code",
   "execution_count": 5,
   "metadata": {
    "executionInfo": {
     "elapsed": 6368,
     "status": "ok",
     "timestamp": 1747006813497,
     "user": {
      "displayName": "Abdallah Samir",
      "userId": "12960855304756324590"
     },
     "user_tz": -180
    },
    "id": "y8utsMq7y_TP"
   },
   "outputs": [],
   "source": [
    "import json\n",
    "import os\n",
    "from os.path import join\n",
    "import random\n",
    "from tqdm.auto import tqdm\n",
    "import requests\n",
    "\n",
    "from pydantic import BaseModel, Field\n",
    "from typing import List, Optional, Literal\n",
    "from datetime import datetime\n",
    "\n",
    "import json_repair\n",
    "from transformers import AutoModelForCausalLM, AutoTokenizer, BitsAndBytesConfig\n",
    "import torch\n",
    "\n",
    "data_dir = \"/gdrive/MyDrive/llm-finetuning\"\n",
    "base_model_id = \"Qwen/Qwen2.5-1.5B-Instruct\"\n",
    "\n",
    "device = \"cuda\"\n",
    "torch_dtype = None #bf16\n",
    "\n",
    "def parse_json(text):\n",
    "    try:\n",
    "        return json_repair.loads(text)\n",
    "    except:\n",
    "        return None"
   ]
  },
  {
   "cell_type": "markdown",
   "metadata": {
    "id": "UDKfM9Ua00SH"
   },
   "source": [
    "## Tasks"
   ]
  },
  {
   "cell_type": "code",
   "execution_count": null,
   "metadata": {
    "id": "ShkKHFV-01gy"
   },
   "outputs": [],
   "source": [
    "# story = \"\"\"\n",
    "# ذكرت مجلة فوربس أن العائلة تلعب دورا محوريا في تشكيل علاقة الأفراد بالمال،\n",
    "#  حيث تتأثر هذه العلاقة بأنماط السلوك المالي المتوارثة عبر الأجيال.\n",
    "\n",
    "# التقرير الذي يستند إلى أبحاث الأستاذ الجامعي شاين إنيت حول\n",
    "# الرفاه المالي يوضح أن لكل شخص \"شخصية مالية\" تتحدد وفقا لطريقة\n",
    "#  تفاعله مع المال، والتي تتأثر بشكل مباشر بتربية الأسرة وتجارب الطفولة.\n",
    "\n",
    "#  الأبعاد الثلاثة للعلاقة بالمال\n",
    "# بحسب الدراسة، هناك ثلاثة أبعاد رئيسية تشكّل علاقتنا بالمال:\n",
    "\n",
    "# الاكتساب (A): يميل الأفراد الذين ينتمون لهذا\n",
    "#  البعد إلى اعتبار المال سلعة قابلة للجمع، حيث يرون\n",
    "# في تحقيق الثروة هدفا بحد ذاته. والجانب السلبي لهذا\n",
    "#  النمط هو إمكانية التحول إلى هوس بالثروة أو العكس،\n",
    "#  أي رفض تام لاكتساب المال باعتباره مصدرا للفساد.\n",
    "\n",
    "# الاستخدام (U): يرى هؤلاء الأشخاص المال أداة للتمتع بالحياة، حيث يربطون قيمته بقدرته على توفير\n",
    "# المتعة والراحة. ومع ذلك، قد يصبح\n",
    "# البعض مدمنا على الإنفاق، في حين يتجه آخرون إلى التقشف المفرط خوفا من المستقبل.\n",
    "\n",
    "# الإدارة (M): أصحاب هذا النمط يعتبرون المال مسؤولية تتطلب التخطيط الدقيق. لكن في بعض الحالات،\n",
    "#  قد يتحول الأمر إلى هوس مفرط بإدارة الإنفاق، مما يؤثر سلبا على العلاقات الشخصية.\n",
    "\n",
    "#  كيف تؤثر العائلة على علاقتنا بالمال؟\n",
    "# يشير التقرير إلى أن التجارب الأسرية تلعب دورا رئيسيا في تحديد\n",
    "#  \"الشخصية المالية\" لكل فرد، على سبيل المثال، إذا كان أحد الوالدين يعتمد على المال\n",
    "# كمكافأة للسلوك الجيد، فقد يتبنى الطفل لاحقا النمط نفسه في حياته البالغة.\n",
    "\n",
    "# لتحليل هذه التأثيرات بشكل دقيق، طورت رابطة العلاج المالي\n",
    "# (Financial Therapy Association) أداة تسمى مخطط الجينوم المالي (Money Genogram)،\n",
    "# وهو نموذج يُستخدم لتحديد الأنماط المالية داخل العائلة.\n",
    "\n",
    "# تتضمن هذه الأداة:\n",
    "\n",
    "# رسم شجرة عائلية.\n",
    "# تصنيف أفراد العائلة وفقا للأبعاد الثلاثة للعلاقة بالمال (A ،U ،M).\n",
    "# تحديد ما إذا كان السلوك المالي لكل فرد صحيا (+) أو غير صحي (-).\n",
    "# على سبيل المثال، إذا نشأ شخص في عائلة\n",
    "# اعتادت على الإنفاق المفرط، فقد يكون لديه ميل قوي إلى اتباع النمط نفسه،\n",
    "#  أو العكس تماما، حيث يصبح مقتصدا بشكل مبالغ فيه كرد فعل نفسي.\n",
    "# \"\"\""
   ]
  },
  {
   "cell_type": "code",
   "execution_count": null,
   "metadata": {
    "id": "A4y-imWZYXhn"
   },
   "outputs": [],
   "source": [
    "# # # Another Sample\n",
    "\n",
    "# story = \"\"\"\n",
    "# قرر المجلس القومي للأجور في مصر، زيادة الحد الأدنى لأجر العاملين بالقطاع الخاص إلى 7 آلاف جنيه شهريًا مقابل 6 آلاف جنيه، على أن يتم تطبيق الزيادة اعتبارًا من 1 مارس 2025.\n",
    "# كما قرر المجلس أن يكون الحد الأدنى لقيمة العلاوة الدورية للعاملين بالقطاع الخاص 250 جنيهًا شهريًا، ولأول مرة يقرر المجلس القومي للأجور وضع حد أدنى للأجر للعمل المؤقت \"جزء من الوقت\"، بحيث لا يقل أجرهم عن 28 جنيهًا صافيًا في الساعة، وذلك وفقًا لتعريفهم الوارد في قانون العمل.\n",
    "# وقالت وزيرة التخطيط والتنمية الاقتصادية والتعاون الدولي، رانيا المشاط، إن رفع الحد الأدنى للأجور يأتي في إطار الحرص على الاستجابة للمستجدات الاقتصادية الراهنة، بما يعزز الاستقرار الاقتصادي والاجتماعي، مضيفة أن ذلك يتسق مع المعايير الدولية، حيث تؤكد منظمة العمل الدولية على ضرورة مراجعة الحد الأدنى للأجور على أساس دوري، لحماية القوة الشرائية للأسر، واستيعاب التغيرات الاقتصادية التدريجية.\n",
    "# \"\"\""
   ]
  },
  {
   "cell_type": "code",
   "execution_count": 6,
   "metadata": {
    "executionInfo": {
     "elapsed": 18,
     "status": "ok",
     "timestamp": 1747006813516,
     "user": {
      "displayName": "Abdallah Samir",
      "userId": "12960855304756324590"
     },
     "user_tz": -180
    },
    "id": "A74ZyRzjHkRQ"
   },
   "outputs": [],
   "source": [
    "story = \"\"\"\n",
    "أنهى مسئولو النادى الأهلى كل تفاصيل عقد أحمد مصطفى زيزو، جناح الزمالك، بحيث ينضم اللاعب لمدة 4 سنوات قادمة بدءا من الموسم الجديد، فى صفقة انتقال حر بعد نهاية عقده مع الزمالك عقب نهاية الموسم الحالى.\n",
    "\n",
    "ووضع الأهلى زيزو فى الفئة الأولى بحيث يحصل على 25 مليون جنيه سنويا بالإضافة إلى عقد إعلانى مقابل 60 مليون جنيه، بخلاف 80 مليون جنيه أخرى سيحصل عليها دفعة واحدة من خارج النادى عند الإعلان الرسمى عن الصفقة.\n",
    "\n",
    "وينتهى عقد أحمد سيد زيزو مع الزمالك بنهاية الموسم الجارى، مما يجعل له الحق فى التفاوض مع أى نادٍ وإتمام الاتفاق معه والانضمام له عقب نهاية عقده الحالي خلال يونيو المقبل.\n",
    "\n",
    "وحصل زيزو على تأشيرة السفر لأمريكا بالفعل للمشاركة مع الأهلى في مونديال الأندية الصيف المقبل.\n",
    "\n",
    "ويستعد الأهلى للمشاركة فى بطولة كأس العالم للأندية بشكلها الجديد فى الولايات المتحدة الأمريكية، والمقامة بمشاركة 32 ناديًا من أكبر فرق العالم\n",
    "\"\"\""
   ]
  },
  {
   "cell_type": "markdown",
   "metadata": {
    "id": "_Hkuh7dM08Zk"
   },
   "source": [
    "### Details Extraction"
   ]
  },
  {
   "cell_type": "code",
   "execution_count": null,
   "metadata": {
    "id": "1sVo7nmOJFEq"
   },
   "outputs": [],
   "source": [
    "##  What I want from LLM\n",
    "\n",
    "# {\n",
    "#     \"story_title\": \"\",\n",
    "#     \"story_keywards\": [\"kw1\", \"kw2\"]\n",
    "#     \"story_summary\": \"\",\n",
    "#     \"story_entities\": []\n",
    "# }\n"
   ]
  },
  {
   "cell_type": "code",
   "execution_count": 7,
   "metadata": {
    "executionInfo": {
     "elapsed": 9,
     "status": "ok",
     "timestamp": 1747006813531,
     "user": {
      "displayName": "Abdallah Samir",
      "userId": "12960855304756324590"
     },
     "user_tz": -180
    },
    "id": "5Uq6gtPO0-np"
   },
   "outputs": [],
   "source": [
    "StoryCategory = Literal[\n",
    "    \"politics\", \"sports\", \"art\", \"technology\", \"economy\",\n",
    "    \"health\", \"entertainment\", \"science\",\n",
    "    \"not_specified\"\n",
    "]\n",
    "\n",
    "\n",
    "EntityType = Literal[\n",
    "    \"person-male\", \"person-female\", \"location\", \"organization\", \"event\", \"time\",\n",
    "    \"quantity\", \"money\", \"product\", \"law\", \"disease\", \"artifact\", \"not_specified\"\n",
    "]\n",
    "\n",
    "class Entity(BaseModel):\n",
    "    entity_value: str = Field(..., description=\"The actual name or value of the entity.\")\n",
    "    entity_type: EntityType = Field(..., description=\"The type of recognized entity.\")\n",
    "\n",
    "class NewsDetails(BaseModel):\n",
    "    story_title: str = Field(..., min_length=5, max_length=300,\n",
    "                             description=\"A fully informative and SEO optimized title of the story.\")\n",
    "\n",
    "    story_keywords: List[str] = Field(..., min_items=1,\n",
    "                                      description=\"Relevant keywords associated with the story.\")\n",
    "\n",
    "    story_summary: List[str] = Field(\n",
    "                                    ..., min_items=1, max_items=5,\n",
    "                                    description=\"Summarized key points about the story (1-5 points).\"\n",
    "                                )\n",
    "\n",
    "    story_category: StoryCategory = Field(..., description=\"Category of the news story.\")\n",
    "\n",
    "    story_entities: List[Entity] = Field(..., min_items=1, max_items=10,\n",
    "                                        description=\"List of identified entities in the story.\")\n"
   ]
  },
  {
   "cell_type": "code",
   "execution_count": 8,
   "metadata": {
    "executionInfo": {
     "elapsed": 12,
     "status": "ok",
     "timestamp": 1747006813547,
     "user": {
      "displayName": "Abdallah Samir",
      "userId": "12960855304756324590"
     },
     "user_tz": -180
    },
    "id": "N6838nmZ5Nsl"
   },
   "outputs": [],
   "source": [
    "details_extraction_messages = [\n",
    "    {\n",
    "        \"role\": \"system\",\n",
    "        \"content\": \"\\n\".join([\n",
    "            \"You are an NLP data paraser.\",\n",
    "            \"You will be provided by an Arabic text associated with a Pydantic scheme.\",\n",
    "            \"Generate the ouptut in the same story language.\",\n",
    "            \"You have to extract JSON details from text according the Pydantic details.\",\n",
    "            \"Extract details as mentioned in text.\",\n",
    "            \"Do not generate any introduction or conclusion.\"\n",
    "        ])\n",
    "    },\n",
    "    {\n",
    "        \"role\": \"user\",\n",
    "        \"content\": \"\\n\".join([\n",
    "            \"## Story:\",\n",
    "            story.strip(),\n",
    "            \"\",\n",
    "\n",
    "            \"## Pydantic Details:\",\n",
    "            json.dumps(\n",
    "                NewsDetails.model_json_schema(), ensure_ascii=False\n",
    "            ),\n",
    "            \"\",\n",
    "\n",
    "            \"## Story Details:\",\n",
    "            \"```json\"\n",
    "        ])\n",
    "    }\n",
    "]"
   ]
  },
  {
   "cell_type": "code",
   "execution_count": null,
   "metadata": {
    "id": "IEqEH_-nRqOB"
   },
   "outputs": [],
   "source": [
    "json.dumps(NewsDetails.model_json_schema(), ensure_ascii=False)"
   ]
  },
  {
   "cell_type": "markdown",
   "metadata": {
    "id": "w1E3YIOW-f_1"
   },
   "source": [
    "### Translation"
   ]
  },
  {
   "cell_type": "code",
   "execution_count": null,
   "metadata": {
    "id": "XJakEMepaJY0"
   },
   "outputs": [],
   "source": [
    "##  What I want from LLM\n",
    "\n",
    "# {\n",
    "#     \"translated_title\": \"\",\n",
    "#     \"translated_content\": \"\"\n",
    "# }"
   ]
  },
  {
   "cell_type": "code",
   "execution_count": 10,
   "metadata": {
    "executionInfo": {
     "elapsed": 4,
     "status": "ok",
     "timestamp": 1747006813573,
     "user": {
      "displayName": "Abdallah Samir",
      "userId": "12960855304756324590"
     },
     "user_tz": -180
    },
    "id": "y6J9rGpY-jmV"
   },
   "outputs": [],
   "source": [
    "class TranslatedStory(BaseModel):\n",
    "    translated_title: str = Field(..., min_length=5, max_length=300,\n",
    "                                  description=\"Suggested translated title of the news story.\")\n",
    "    translated_content: str = Field(..., min_length=5,\n",
    "                                    description=\"Translated content of the news story.\")\n",
    "\n",
    "targeted_lang = \"English\"\n",
    "\n",
    "translation_messages = [\n",
    "    {\n",
    "        \"role\": \"system\",\n",
    "        \"content\": \"\\n\".join([\n",
    "            \"You are a professional translator.\",\n",
    "            \"You will be provided by an Arabic text.\",\n",
    "            \"You have to translate the text into the `Targeted Language`.\",\n",
    "            \"Follow the provided Scheme to generate a JSON\",\n",
    "            \"Do not generate any introduction or conclusion.\"\n",
    "        ])\n",
    "    },\n",
    "    {\n",
    "        \"role\": \"user\",\n",
    "        \"content\":  \"\\n\".join([\n",
    "            \"## Story:\",\n",
    "            story.strip(),\n",
    "            \"\",\n",
    "\n",
    "            \"## Pydantic Details:\",\n",
    "            json.dumps( TranslatedStory.model_json_schema(), ensure_ascii=False ),\n",
    "            \"\",\n",
    "\n",
    "            \"## Targeted Language:\",\n",
    "            targeted_lang,\n",
    "            \"\",\n",
    "\n",
    "            \"## Translated Story:\",\n",
    "            \"```json\"\n",
    "\n",
    "        ])\n",
    "    }\n",
    "]"
   ]
  },
  {
   "cell_type": "markdown",
   "metadata": {
    "id": "wkVOXy3y7YI_"
   },
   "source": [
    "## Evaluation(base_model)"
   ]
  },
  {
   "cell_type": "code",
   "execution_count": null,
   "metadata": {
    "id": "6Au-Yng57ZZD"
   },
   "outputs": [],
   "source": [
    "model_temp = AutoModelForCausalLM.from_pretrained(\n",
    "    base_model_id,\n",
    "    device_map=\"auto\",\n",
    "    torch_dtype = torch_dtype\n",
    ")\n",
    "\n",
    "tokenizer_temp = AutoTokenizer.from_pretrained(base_model_id)"
   ]
  },
  {
   "cell_type": "code",
   "execution_count": 12,
   "metadata": {
    "colab": {
     "base_uri": "https://localhost:8080/"
    },
    "executionInfo": {
     "elapsed": 16,
     "status": "ok",
     "timestamp": 1747006962384,
     "user": {
      "displayName": "Abdallah Samir",
      "userId": "12960855304756324590"
     },
     "user_tz": -180
    },
    "id": "9T3NyBjaRn1i",
    "outputId": "927d98c8-f879-42b8-c1eb-c8496d8a4747"
   },
   "outputs": [
    {
     "data": {
      "text/plain": [
       "Qwen2ForCausalLM(\n",
       "  (model): Qwen2Model(\n",
       "    (embed_tokens): Embedding(151936, 1536)\n",
       "    (layers): ModuleList(\n",
       "      (0-27): 28 x Qwen2DecoderLayer(\n",
       "        (self_attn): Qwen2Attention(\n",
       "          (q_proj): Linear(in_features=1536, out_features=1536, bias=True)\n",
       "          (k_proj): Linear(in_features=1536, out_features=256, bias=True)\n",
       "          (v_proj): Linear(in_features=1536, out_features=256, bias=True)\n",
       "          (o_proj): Linear(in_features=1536, out_features=1536, bias=False)\n",
       "        )\n",
       "        (mlp): Qwen2MLP(\n",
       "          (gate_proj): Linear(in_features=1536, out_features=8960, bias=False)\n",
       "          (up_proj): Linear(in_features=1536, out_features=8960, bias=False)\n",
       "          (down_proj): Linear(in_features=8960, out_features=1536, bias=False)\n",
       "          (act_fn): SiLU()\n",
       "        )\n",
       "        (input_layernorm): Qwen2RMSNorm((1536,), eps=1e-06)\n",
       "        (post_attention_layernorm): Qwen2RMSNorm((1536,), eps=1e-06)\n",
       "      )\n",
       "    )\n",
       "    (norm): Qwen2RMSNorm((1536,), eps=1e-06)\n",
       "    (rotary_emb): Qwen2RotaryEmbedding()\n",
       "  )\n",
       "  (lm_head): Linear(in_features=1536, out_features=151936, bias=False)\n",
       ")"
      ]
     },
     "execution_count": 12,
     "metadata": {},
     "output_type": "execute_result"
    }
   ],
   "source": [
    "model_temp"
   ]
  },
  {
   "cell_type": "code",
   "execution_count": 13,
   "metadata": {
    "colab": {
     "base_uri": "https://localhost:8080/"
    },
    "executionInfo": {
     "elapsed": 9203,
     "status": "ok",
     "timestamp": 1747006971587,
     "user": {
      "displayName": "Abdallah Samir",
      "userId": "12960855304756324590"
     },
     "user_tz": -180
    },
    "id": "coJEFfI98amn",
    "outputId": "f04c5fdd-cdac-4c9f-e622-473bddb1d6fc"
   },
   "outputs": [
    {
     "name": "stderr",
     "output_type": "stream",
     "text": [
      "The attention mask is not set and cannot be inferred from input because pad token is same as eos token. As a consequence, you may observe unexpected behavior. Please pass your input's `attention_mask` to obtain reliable results.\n"
     ]
    }
   ],
   "source": [
    "text = tokenizer_temp.apply_chat_template(\n",
    "    details_extraction_messages,\n",
    "    tokenize=False,\n",
    "    add_generation_prompt=True\n",
    ")\n",
    "\n",
    "model_inputs = tokenizer_temp([text], return_tensors=\"pt\").to(device)\n",
    "\n",
    "generated_ids = model_temp.generate(\n",
    "    model_inputs.input_ids,\n",
    "    max_new_tokens=1024,\n",
    "    do_sample=False, top_k=None, temperature=None, top_p=None,\n",
    ")\n",
    "\n",
    "generated_ids = [\n",
    "    output_ids[len(input_ids):]\n",
    "    for input_ids, output_ids in zip(model_inputs.input_ids, generated_ids)\n",
    "]\n",
    "\n",
    "response = tokenizer_temp.batch_decode(generated_ids, skip_special_tokens=True)[0]"
   ]
  },
  {
   "cell_type": "code",
   "execution_count": 14,
   "metadata": {
    "colab": {
     "base_uri": "https://localhost:8080/"
    },
    "executionInfo": {
     "elapsed": 19,
     "status": "ok",
     "timestamp": 1747006972083,
     "user": {
      "displayName": "Abdallah Samir",
      "userId": "12960855304756324590"
     },
     "user_tz": -180
    },
    "id": "vZfYD0K5-SLF",
    "outputId": "1a9cf44e-41e2-4238-87a9-007d6d1979cf"
   },
   "outputs": [
    {
     "name": "stdout",
     "output_type": "stream",
     "text": [
      "{\n",
      "    \"story_title\": \"Ahmed Moustafa Zizou's Contract Ends\",\n",
      "    \"story_keywords\": [\n",
      "        \"Ahmed Moustafa Zizou\",\n",
      "        \"contract ends\",\n",
      "        \"Ahmed Sadek Zizou\",\n",
      "        \"transfer fee\",\n",
      "        \"Cup World Cup\"\n",
      "    ],\n",
      "    \"story_summary\": [\n",
      "        \"Ahmed Moustafa Zizou, a player for Al Ahli, has completed all details related to his contract.\",\n",
      "        \"Zizou is set to join Al Ahli for four years starting from the new season, after ending his contract with Al Ahli at the end of this season.\"\n",
      "    ],\n",
      "    \"story_category\": \"sports\",\n",
      "    \"story_entities\": [\n",
      "        {\n",
      "            \"entity_value\": \"Ahmed Moustafa Zizou\",\n",
      "            \"entity_type\": \"person-male\"\n",
      "        },\n",
      "        {\n",
      "            \"entity_value\": \"Al Ahli\",\n",
      "            \"entity_type\": \"organization\"\n",
      "        }\n",
      "    ]\n",
      "}\n"
     ]
    }
   ],
   "source": [
    "print(response)"
   ]
  },
  {
   "cell_type": "code",
   "execution_count": 15,
   "metadata": {
    "executionInfo": {
     "elapsed": 3349,
     "status": "ok",
     "timestamp": 1747006975434,
     "user": {
      "displayName": "Abdallah Samir",
      "userId": "12960855304756324590"
     },
     "user_tz": -180
    },
    "id": "UqSsu4dg_qYd"
   },
   "outputs": [],
   "source": [
    "text = tokenizer_temp.apply_chat_template(\n",
    "    translation_messages,\n",
    "    tokenize=False,\n",
    "    add_generation_prompt=True\n",
    ")\n",
    "\n",
    "model_inputs = tokenizer_temp([text], return_tensors=\"pt\").to(device)\n",
    "\n",
    "generated_ids = model_temp.generate(\n",
    "    model_inputs.input_ids,\n",
    "    max_new_tokens=1024,\n",
    "    do_sample=False, top_k=None, temperature=None, top_p=None,\n",
    ")\n",
    "\n",
    "generated_ids = [\n",
    "    output_ids[len(input_ids):]\n",
    "    for input_ids, output_ids in zip(model_inputs.input_ids, generated_ids)\n",
    "]\n",
    "\n",
    "response = tokenizer_temp.batch_decode(generated_ids, skip_special_tokens=True)[0]"
   ]
  },
  {
   "cell_type": "code",
   "execution_count": 16,
   "metadata": {
    "colab": {
     "base_uri": "https://localhost:8080/"
    },
    "executionInfo": {
     "elapsed": 5,
     "status": "ok",
     "timestamp": 1747006975441,
     "user": {
      "displayName": "Abdallah Samir",
      "userId": "12960855304756324590"
     },
     "user_tz": -180
    },
    "id": "1owtpndcM-q0",
    "outputId": "7b9dfb95-d928-4725-9c37-f3079dbb7a7a"
   },
   "outputs": [
    {
     "name": "stdout",
     "output_type": "stream",
     "text": [
      "{\n",
      "  \"translated_title\": \"Ahmed Moustafa Zizou's Contract Ends with Cairo Eagles\",\n",
      "  \"translated_content\": \"The management of Al Ahli has finalized all details regarding Ahmed Moustafa Zizou's contract, which he will join for four years starting from next season. The deal is free transfer after his contract expires with Al Ahli at the end of this season.\"\n",
      "}\n"
     ]
    }
   ],
   "source": [
    "print(response)"
   ]
  },
  {
   "cell_type": "markdown",
   "metadata": {
    "id": "nAy8s4WtAJkn"
   },
   "source": [
    "## Evaluate OpenAI"
   ]
  },
  {
   "cell_type": "code",
   "execution_count": null,
   "metadata": {
    "id": "UUzk0STHALVi"
   },
   "outputs": [],
   "source": [
    "from openai import OpenAI\n",
    "from google.colab import userdata\n",
    "\n",
    "openai_client = OpenAI(\n",
    "    api_key=userdata.get('openai-colab'),\n",
    "    # base_url=\"http://localhost:8000\"\n",
    ")\n",
    "\n",
    "openai_model_id = \"gpt-4o-mini\""
   ]
  },
  {
   "cell_type": "code",
   "execution_count": null,
   "metadata": {
    "id": "8ADnZXKdAIgN"
   },
   "outputs": [],
   "source": [
    "chat_completion = openai_client.chat.completions.create(\n",
    "    messages=details_extraction_messages,\n",
    "    model=openai_model_id,\n",
    "    temperature=0.2,\n",
    ")\n",
    "\n",
    "print(chat_completion.choices[0].message.content)"
   ]
  },
  {
   "cell_type": "code",
   "execution_count": null,
   "metadata": {
    "id": "W9mH1TX2A9n7"
   },
   "outputs": [],
   "source": [
    "chat_completion = openai_client.chat.completions.create(\n",
    "    messages=translation_messages,\n",
    "    model=openai_model_id,\n",
    "    temperature=0.2,\n",
    ")\n",
    "\n",
    "print(chat_completion.choices[0].message.content)"
   ]
  },
  {
   "cell_type": "code",
   "execution_count": null,
   "metadata": {
    "id": "3seAQTZJEv3G"
   },
   "outputs": [],
   "source": [
    "json.loads(chat_completion.choices[0].message.content) #type(chat_completion.choices[0].message.content)==>Str"
   ]
  },
  {
   "cell_type": "markdown",
   "metadata": {
    "id": "iWCWwnYiBUY0"
   },
   "source": [
    "## Knowledge Distillation"
   ]
  },
  {
   "cell_type": "code",
   "execution_count": null,
   "metadata": {
    "colab": {
     "base_uri": "https://localhost:8080/"
    },
    "id": "_RBNZW5jBvVe",
    "outputId": "e568b953-18cc-4041-b9be-e2f769b877f1"
   },
   "outputs": [
    {
     "name": "stdout",
     "output_type": "stream",
     "text": [
      "Raw data: 2400\n"
     ]
    }
   ],
   "source": [
    "raw_data_path = join(data_dir, \"datasets\", \"news-sample.jsonl\")\n",
    "\n",
    "raw_data = []\n",
    "for line in open(raw_data_path):\n",
    "    if line.strip() == \"\":\n",
    "        continue\n",
    "\n",
    "    raw_data.append(\n",
    "        json.loads(line.strip())\n",
    "    )\n",
    "\n",
    "random.Random(101).shuffle(raw_data)\n",
    "\n",
    "print(f\"Raw data: {len(raw_data)}\")"
   ]
  },
  {
   "cell_type": "code",
   "execution_count": null,
   "metadata": {
    "id": "lGPQ_MuwD0aS"
   },
   "outputs": [],
   "source": [
    "raw_data[0]#['content']"
   ]
  },
  {
   "cell_type": "code",
   "execution_count": null,
   "metadata": {
    "id": "RIQYhOO_DHdm"
   },
   "outputs": [],
   "source": [
    "cloud_model_id = \"gpt-4o-mini\"\n",
    "price_per_1m_input_tokens = 0.150\n",
    "price_per_1m_output_tokens = 0.600\n",
    "\n",
    "prompt_tokens = 0\n",
    "completion_tokens = 0\n",
    "\n",
    "save_to = join(data_dir, \"datasets\", \"sft.jsonl\")\n",
    "\n",
    "ix = 0\n",
    "for story in tqdm(raw_data):\n",
    "\n",
    "    sample_details_extraction_messages = [\n",
    "        {\n",
    "            \"role\": \"system\",\n",
    "            \"content\": \"\\n\".join([\n",
    "                \"You are an NLP data paraser.\",\n",
    "                \"You will be provided by an Arabic text associated with a Pydantic scheme.\",\n",
    "                \"Generate the ouptut in the same story language.\",\n",
    "                \"You have to extract JSON details from text according the Pydantic details.\",\n",
    "                \"Extract details as mentioned in text.\",\n",
    "                \"Do not generate any introduction or conclusion.\"\n",
    "            ])\n",
    "        },\n",
    "        {\n",
    "            \"role\": \"user\",\n",
    "            \"content\": \"\\n\".join([\n",
    "                \"## Story:\",\n",
    "                story['content'].strip(),\n",
    "                \"\",\n",
    "\n",
    "                \"## Pydantic Details:\",\n",
    "                json.dumps(\n",
    "                    NewsDetails.model_json_schema(), ensure_ascii=False\n",
    "                ),\n",
    "                \"\",\n",
    "\n",
    "                \"## Story Details:\",\n",
    "                \"```json\"\n",
    "            ])\n",
    "        }\n",
    "    ]\n",
    "\n",
    "    response = openai_client.chat.completions.create(\n",
    "                            messages=sample_details_extraction_messages,\n",
    "                            model=cloud_model_id,\n",
    "                            temperature=0.2,\n",
    "                        )\n",
    "\n",
    "    if response.choices[0].finish_reason != \"stop\":\n",
    "        prompt_tokens += response.usage.prompt_tokens\n",
    "        continue\n",
    "\n",
    "    llm_response = response.choices[0].message.content\n",
    "    llm_resp_dict = parse_json(llm_response)\n",
    "\n",
    "    if not llm_resp_dict:\n",
    "        continue\n",
    "\n",
    "    with open(save_to, \"a\", encoding=\"utf8\") as dest:\n",
    "        dest.write(json.dumps({\n",
    "            \"id\": ix,\n",
    "            \"story\": story['content'].strip(),\n",
    "            \"task\": \"Extrat the story details into a JSON.\",\n",
    "            \"output_scheme\": json.dumps( NewsDetails.model_json_schema(), ensure_ascii=False ),\n",
    "            \"response\": llm_resp_dict,\n",
    "        }, ensure_ascii=False, default=str)  + \"\\n\" )\n",
    "\n",
    "    ix += 1\n",
    "    prompt_tokens += response.usage.prompt_tokens\n",
    "    completion_tokens += response.usage.completion_tokens\n",
    "\n",
    "    if(ix % 3) == 0:\n",
    "        cost_input = (prompt_tokens / 1_000_000) * price_per_1m_input_tokens\n",
    "        cost_output = (completion_tokens / 1_000_000) * price_per_1m_output_tokens\n",
    "        total_cost = cost_input + cost_output\n",
    "\n",
    "        print(f\"Iteration {ix}: Total Cost = ${total_cost:.4f} \")"
   ]
  },
  {
   "cell_type": "code",
   "execution_count": null,
   "metadata": {
    "id": "UEV0rL5LHaIy"
   },
   "outputs": [],
   "source": [
    "cloud_model_id = \"gpt-4o-mini\"\n",
    "price_per_1m_input_tokens = 0.150\n",
    "price_per_1m_output_tokens = 0.600\n",
    "\n",
    "prompt_tokens = 0\n",
    "completion_tokens = 0\n",
    "\n",
    "save_to = join(data_dir, \"datasets\", \"sft.jsonl\")\n",
    "\n",
    "ix = 0\n",
    "for story in tqdm(raw_data):\n",
    "\n",
    "    for targeted_lang in [\"English\", \"French\"]:\n",
    "        sample_translation_messages = [\n",
    "            {\n",
    "                \"role\": \"system\",\n",
    "                \"content\": \"\\n\".join([\n",
    "                    \"You are a professional translator.\",\n",
    "                    \"You will be provided by an Arabic text.\",\n",
    "                    \"You have to translate the text into the `Targeted Language`.\",\n",
    "                    \"Follow the provided Scheme to generate a JSON\",\n",
    "                    \"Do not generate any introduction or conclusion.\"\n",
    "                ])\n",
    "            },\n",
    "            {\n",
    "                \"role\": \"user\",\n",
    "                \"content\": \"\\n\".join([\n",
    "                    \"## Pydantic Details:\",\n",
    "                    json.dumps( TranslatedStory.model_json_schema(), ensure_ascii=False ),\n",
    "                    \"\",\n",
    "\n",
    "                    \"## Targeted Language or Dialect:\",\n",
    "                    targeted_lang,\n",
    "                    \"\",\n",
    "\n",
    "                    \"## Story:\",\n",
    "                    story['content'].strip(),\n",
    "                    \"\",\n",
    "\n",
    "                    \"## Translated Story:\",\n",
    "                    \"```json\"\n",
    "                ])\n",
    "            }\n",
    "        ]\n",
    "\n",
    "        response = openai_client.chat.completions.create(\n",
    "                                messages=sample_translation_messages,\n",
    "                                model=cloud_model_id,\n",
    "                                temperature=0.2,\n",
    "                            )\n",
    "\n",
    "        if response.choices[0].finish_reason != \"stop\":\n",
    "            prompt_tokens += response.usage.prompt_tokens\n",
    "            continue\n",
    "\n",
    "        llm_response = response.choices[0].message.content\n",
    "        llm_resp_dict = parse_json(llm_response)\n",
    "\n",
    "        if not llm_resp_dict:\n",
    "            continue\n",
    "\n",
    "        with open(save_to, \"a\", encoding=\"utf8\") as dest:\n",
    "            dest.write(json.dumps({\n",
    "                \"id\": ix,\n",
    "                \"story\": story['content'].strip(),\n",
    "\n",
    "                \"output_scheme\": json.dumps( TranslatedStory.model_json_schema(), ensure_ascii=False ),\n",
    "                \"task\": f\"You have to translate the story content into {targeted_lang} associated with a title into a JSON.\",\n",
    "\n",
    "                \"response\": llm_resp_dict,\n",
    "            }, ensure_ascii=False, default=str)  + \"\\n\" )\n",
    "\n",
    "        ix += 1\n",
    "        prompt_tokens += response.usage.prompt_tokens\n",
    "        completion_tokens += response.usage.completion_tokens\n",
    "\n",
    "        if(ix % 50) == 0:\n",
    "            cost_input = (prompt_tokens / 1_000_000) * price_per_1m_input_tokens\n",
    "            cost_output = (completion_tokens / 1_000_000) * price_per_1m_output_tokens\n",
    "            total_cost = cost_input + cost_output\n",
    "\n",
    "            print(f\"Iteration {ix}: Total Cost = ${total_cost:.4f} \")"
   ]
  },
  {
   "cell_type": "markdown",
   "metadata": {
    "id": "xBbGFkVEH1X-"
   },
   "source": [
    "## Format Finetuning Datasets"
   ]
  },
  {
   "cell_type": "code",
   "execution_count": null,
   "metadata": {
    "id": "bn4uUuDOIO3D"
   },
   "outputs": [],
   "source": [
    "\n",
    "sft_data_path = join(data_dir, \"datasets\", \"sft.jsonl\")\n",
    "llm_finetunning_data = []\n",
    "\n",
    "system_message = \"\\n\".join([\n",
    "    \"You are a professional NLP data parser.\",\n",
    "    \"Follow the provided `Task` by the user and the `Output Scheme` to generate the `Output JSON`.\",\n",
    "    \"Do not generate any introduction or conclusion.\"\n",
    "])\n",
    "\n",
    "for line in open(sft_data_path):\n",
    "    if line.strip() == \"\":\n",
    "        continue\n",
    "\n",
    "    rec = json.loads(line.strip())\n",
    "\n",
    "    llm_finetunning_data.append({\n",
    "        \"system\": system_message,\n",
    "        \"instruction\": \"\\n\".join([\n",
    "            \"# Story:\",\n",
    "            rec[\"story\"],\n",
    "\n",
    "            \"# Task:\",\n",
    "            rec[\"task\"],\n",
    "\n",
    "            \"# Output Scheme:\",\n",
    "            rec[\"output_scheme\"],\n",
    "            \"\",\n",
    "\n",
    "            \"# Output JSON:\",\n",
    "            \"```json\"\n",
    "\n",
    "        ]),\n",
    "        \"input\": \"\",\n",
    "        \"output\": \"\\n\".join([\n",
    "            \"```json\",\n",
    "            json.dumps(rec[\"response\"], ensure_ascii=False, default=str),\n",
    "            \"```\"\n",
    "        ]),\n",
    "        \"history\": []\n",
    "    })\n",
    "\n",
    "random.Random(101).shuffle(llm_finetunning_data)"
   ]
  },
  {
   "cell_type": "code",
   "execution_count": null,
   "metadata": {
    "colab": {
     "base_uri": "https://localhost:8080/"
    },
    "id": "xUXpYjfAIfKb",
    "outputId": "41719811-27dc-4074-adfe-e094a19b3a10"
   },
   "outputs": [
    {
     "data": {
      "text/plain": [
       "2766"
      ]
     },
     "execution_count": 48,
     "metadata": {},
     "output_type": "execute_result"
    }
   ],
   "source": [
    "len(llm_finetunning_data)"
   ]
  },
  {
   "cell_type": "code",
   "execution_count": null,
   "metadata": {
    "id": "DvWmfB-QPJUs"
   },
   "outputs": [],
   "source": [
    "train_sample_sz = 2700\n",
    "\n",
    "train_ds = llm_finetunning_data[:train_sample_sz]\n",
    "eval_ds = llm_finetunning_data[train_sample_sz:]\n",
    "\n",
    "os.makedirs(join(data_dir, \"datasets\", \"llamafactory-finetune-data\"), exist_ok=True)\n",
    "\n",
    "with open(join(data_dir, \"datasets\", \"llamafactory-finetune-data\", \"train.json\"), \"w\") as dest:\n",
    "    json.dump(train_ds, dest, ensure_ascii=False, default=str)\n",
    "\n",
    "with open(join(data_dir, \"datasets\", \"llamafactory-finetune-data\", \"val.json\"), \"w\", encoding=\"utf8\") as dest:\n",
    "    json.dump(eval_ds, dest, ensure_ascii=False, default=str)"
   ]
  },
  {
   "cell_type": "code",
   "execution_count": null,
   "metadata": {
    "colab": {
     "base_uri": "https://localhost:8080/",
     "height": 36
    },
    "id": "3mkuT7i6P6Uz",
    "outputId": "642d18b9-5acf-43a1-8edb-1967a59318fc"
   },
   "outputs": [
    {
     "data": {
      "application/vnd.google.colaboratory.intrinsic+json": {
       "type": "string"
      },
      "text/plain": [
       "'/gdrive/MyDrive/youtube-resources/llm-finetuning/datasets/llamafactory-finetune-data/val.json'"
      ]
     },
     "execution_count": 49,
     "metadata": {},
     "output_type": "execute_result"
    }
   ],
   "source": [
    "join(data_dir, \"datasets\", \"llamafactory-finetune-data\", \"val.json\")"
   ]
  },
  {
   "cell_type": "markdown",
   "metadata": {
    "id": "XoBc56BiRDLO"
   },
   "source": [
    "## Finetuning"
   ]
  },
  {
   "cell_type": "code",
   "execution_count": null,
   "metadata": {
    "id": "PMTk3i2fQKk5"
   },
   "outputs": [],
   "source": [
    "# # Configure LLaMA-Factory for the new datasets\n",
    "\n",
    "# # update /content/LLaMA-Factory/data/dataset_info.json and append\n",
    "# ```\n",
    "   \"news_finetune_train\": {\n",
    "        \"file_name\": \"/gdrive/MyDrive/llm-finetuning/datasets/llamafactory-finetune-data/train.json\",\n",
    "        \"columns\": {\n",
    "            \"prompt\": \"instruction\",\n",
    "            \"query\": \"input\",\n",
    "            \"response\": \"output\",\n",
    "            \"system\": \"system\",\n",
    "            \"history\": \"history\"\n",
    "        }\n",
    "    },\n",
    "    \"news_finetune_val\": {\n",
    "        \"file_name\": \"/gdrive/MyDrive/llm-finetuning/datasets/llamafactory-finetune-data/val.json\",\n",
    "        \"columns\": {\n",
    "            \"prompt\": \"instruction\",\n",
    "            \"query\": \"input\",\n",
    "            \"response\": \"output\",\n",
    "            \"system\": \"system\",\n",
    "            \"history\": \"history\"\n",
    "        }\n",
    "    }\n",
    "# ```\n",
    "\n",
    "# https://wandb.ai/abdallahsamir735/llamafactory/runs/apwbkni9\n",
    "# https://wandb.ai/abdallahsamir735/llamafactory/runs/c5tf0q90"
   ]
  },
  {
   "cell_type": "code",
   "execution_count": null,
   "metadata": {
    "colab": {
     "base_uri": "https://localhost:8080/"
    },
    "id": "TCWgFdsoQrow",
    "outputId": "4a48543d-52b6-4a9f-ef72-84ffb674a56a"
   },
   "outputs": [
    {
     "name": "stdout",
     "output_type": "stream",
     "text": [
      "Overwriting /content/LLaMA-Factory/examples/train_lora/news_finetune.yaml\n"
     ]
    }
   ],
   "source": [
    "%%writefile /content/LLaMA-Factory/examples/train_lora/news_finetune.yaml\n",
    "\n",
    "### model\n",
    "model_name_or_path: Qwen/Qwen2.5-1.5B-Instruct\n",
    "trust_remote_code: true\n",
    "\n",
    "### method\n",
    "stage: sft\n",
    "do_train: true\n",
    "finetuning_type: lora\n",
    "lora_rank: 64\n",
    "lora_target: all\n",
    "\n",
    "### dataset\n",
    "dataset: news_finetune_train\n",
    "eval_dataset: news_finetune_val\n",
    "template: qwen\n",
    "cutoff_len: 3500\n",
    "# max_samples: 50\n",
    "overwrite_cache: true\n",
    "preprocessing_num_workers: 16\n",
    "\n",
    "### output\n",
    "# resume_from_checkpoint: /gdrive/MyDrive/llm-finetuning/models/checkpoint-1500\n",
    "output_dir: /gdrive/MyDrive/llm-finetuning/models/\n",
    "logging_steps: 10\n",
    "save_steps: 500\n",
    "plot_loss: true\n",
    "# overwrite_output_dir: true\n",
    "\n",
    "### train\n",
    "per_device_train_batch_size: 1\n",
    "gradient_accumulation_steps: 4\n",
    "learning_rate: 1.0e-4\n",
    "num_train_epochs: 3.0\n",
    "lr_scheduler_type: cosine\n",
    "warmup_ratio: 0.1\n",
    "bf16: true\n",
    "ddp_timeout: 180000000\n",
    "\n",
    "### eval\n",
    "# val_size: 0.1\n",
    "per_device_eval_batch_size: 1\n",
    "eval_strategy: steps\n",
    "eval_steps: 100\n",
    "\n",
    "report_to: wandb\n",
    "run_name: newsx-finetune-llamafactory\n",
    "\n",
    "push_to_hub: true\n",
    "export_hub_model_id: \"aaaaaaaaaaaaaaaaaa50D/news-analyzer\"\n",
    "hub_private_repo: true\n",
    "hub_strategy: checkpoint\n"
   ]
  },
  {
   "cell_type": "code",
   "execution_count": null,
   "metadata": {
    "id": "Wkigp2KPVgqU"
   },
   "outputs": [],
   "source": [
    "!cd LLaMA-Factory/ && llamafactory-cli train /content/LLaMA-Factory/examples/train_lora/news_finetune.yaml"
   ]
  },
  {
   "cell_type": "markdown",
   "metadata": {
    "id": "GeKBEof7Xa6a"
   },
   "source": [
    "## New Finetuned Model Evaluation"
   ]
  },
  {
   "cell_type": "code",
   "execution_count": 17,
   "metadata": {
    "executionInfo": {
     "elapsed": 6739,
     "status": "ok",
     "timestamp": 1747006982189,
     "user": {
      "displayName": "Abdallah Samir",
      "userId": "12960855304756324590"
     },
     "user_tz": -180
    },
    "id": "WXG625DZXcrT"
   },
   "outputs": [],
   "source": [
    "model = AutoModelForCausalLM.from_pretrained(\n",
    "    base_model_id,\n",
    "    device_map=\"auto\",\n",
    "    torch_dtype = torch_dtype\n",
    ")\n",
    "\n",
    "tokenizer = AutoTokenizer.from_pretrained(base_model_id)"
   ]
  },
  {
   "cell_type": "code",
   "execution_count": 18,
   "metadata": {
    "executionInfo": {
     "elapsed": 9250,
     "status": "ok",
     "timestamp": 1747006991441,
     "user": {
      "displayName": "Abdallah Samir",
      "userId": "12960855304756324590"
     },
     "user_tz": -180
    },
    "id": "dXzybVp2X048"
   },
   "outputs": [],
   "source": [
    "finetuned_model_id = \"/gdrive/MyDrive/llm-finetuning/models\"\n",
    "model.load_adapter(finetuned_model_id)"
   ]
  },
  {
   "cell_type": "code",
   "execution_count": 19,
   "metadata": {
    "executionInfo": {
     "elapsed": 36211,
     "status": "ok",
     "timestamp": 1747007027654,
     "user": {
      "displayName": "Abdallah Samir",
      "userId": "12960855304756324590"
     },
     "user_tz": -180
    },
    "id": "M45kdkH-XXmu"
   },
   "outputs": [],
   "source": [
    "def generate_resp(messages):\n",
    "    text = tokenizer.apply_chat_template(\n",
    "        messages,\n",
    "        tokenize=False,\n",
    "        add_generation_prompt=True\n",
    "    )\n",
    "\n",
    "    model_inputs = tokenizer([text], return_tensors=\"pt\").to(device)\n",
    "\n",
    "    generated_ids = model.generate(\n",
    "        model_inputs.input_ids,\n",
    "        max_new_tokens=1024,\n",
    "        do_sample=False, top_k=None, temperature=None, top_p=None,\n",
    "    )\n",
    "\n",
    "    generated_ids = [\n",
    "        output_ids[len(input_ids):]\n",
    "        for input_ids, output_ids in zip(model_inputs.input_ids, generated_ids)\n",
    "    ]\n",
    "\n",
    "    response = tokenizer.batch_decode(generated_ids, skip_special_tokens=True)[0]\n",
    "\n",
    "    return response\n",
    "\n",
    "response = generate_resp(details_extraction_messages)\n",
    "response2 = generate_resp(translation_messages)"
   ]
  },
  {
   "cell_type": "code",
   "execution_count": 20,
   "metadata": {
    "colab": {
     "base_uri": "https://localhost:8080/"
    },
    "executionInfo": {
     "elapsed": 6,
     "status": "ok",
     "timestamp": 1747007027661,
     "user": {
      "displayName": "Abdallah Samir",
      "userId": "12960855304756324590"
     },
     "user_tz": -180
    },
    "id": "IVcPEZwwGVka",
    "outputId": "03ace882-eed8-4467-99cf-7da3012e7e6a"
   },
   "outputs": [
    {
     "data": {
      "text/plain": [
       "{'story_title': 'أحمد مصطفى زيزو ينضم للاهلى لمدة 4 سنوات بعد عودة الزمالك',\n",
       " 'story_keywords': ['أحمد مصطفى زيزو',\n",
       "  'الاهلى',\n",
       "  'الزمالك',\n",
       "  'صفقة انتقال حر',\n",
       "  'مونديال الأندية'],\n",
       " 'story_summary': ['أحمد مصطفى زيزو ينضم للاهلى لمدة 4 سنوات.',\n",
       "  'الصفقة تتضمن 25 مليون جنيه سنوية و60 مليون جنيه إعلانية.',\n",
       "  'يزinho يحصل على 80 مليون جنيه أخرى بعد الإعلان الرسمي.',\n",
       "  'يزinho حصل على تأشيرة السفر لأمريكا للمشاركة في كأس العالم.'],\n",
       " 'story_category': 'sports',\n",
       " 'story_entities': [{'entity_value': 'أحمد مصطفى زيزو',\n",
       "   'entity_type': 'person-male'},\n",
       "  {'entity_value': 'الاهلى', 'entity_type': 'organization'},\n",
       "  {'entity_value': 'الزمالك', 'entity_type': 'organization'},\n",
       "  {'entity_value': 'مونديال الأندية', 'entity_type': 'event'},\n",
       "  {'entity_value': 'كأس العالم للأندية', 'entity_type': 'event'},\n",
       "  {'entity_value': 'أمريكا', 'entity_type': 'location'}]}"
      ]
     },
     "execution_count": 20,
     "metadata": {},
     "output_type": "execute_result"
    }
   ],
   "source": [
    "parse_json(response)"
   ]
  },
  {
   "cell_type": "code",
   "execution_count": 21,
   "metadata": {
    "colab": {
     "base_uri": "https://localhost:8080/"
    },
    "executionInfo": {
     "elapsed": 5,
     "status": "ok",
     "timestamp": 1747007027665,
     "user": {
      "displayName": "Abdallah Samir",
      "userId": "12960855304756324590"
     },
     "user_tz": -180
    },
    "id": "JcOmgVL_WuR2",
    "outputId": "fbeae67c-77ab-43d6-812f-8fe680afbc35"
   },
   "outputs": [
    {
     "data": {
      "text/plain": [
       "{'translated_title': \"Ahmed Samy Zizou's Contract with Al Ahli Ends After Four Years\",\n",
       " 'translated_content': \"The officials of Al Ahli have finalized all details regarding Ahmed Samy Zizou's contract with Zamalek, who is a midfielder for the Cairo club, allowing him to join the team for four years starting from the new season. The deal was made after the expiration of his contract with Zamalek at the end of this season.\\n\\nAl Ahli placed Zizou in the first category, which entitles him to earn 25 million pounds annually in addition to a sponsorship contract worth 60 million pounds, along with another 80 million pounds that he will receive immediately upon the official announcement of the deal outside the club.\\n\\nAhmed Seddiq Zizou's contract with Zamalek ends at the end of this season, giving him the right to negotiate with any club and finalize the agreement before the end of his current contract next June.\\n\\nZizou has already obtained a travel visa to America to participate with Al Ahli in the upcoming World Club Championship during the summer.\\n\\nAl Ahli is preparing to compete in the new format of the Club World Cup in the United States, held with 32 clubs from the world's largest teams.\"}"
      ]
     },
     "execution_count": 21,
     "metadata": {},
     "output_type": "execute_result"
    }
   ],
   "source": [
    "parse_json(response2)"
   ]
  }
 ],
 "metadata": {
  "accelerator": "GPU",
  "colab": {
   "collapsed_sections": [
    "R4gFkGQA4_BW"
   ],
   "gpuType": "T4",
   "provenance": [],
   "toc_visible": true
  },
  "kernelspec": {
   "display_name": "Python 3",
   "name": "python3"
  },
  "language_info": {
   "name": "python"
  }
 },
 "nbformat": 4,
 "nbformat_minor": 0
}
